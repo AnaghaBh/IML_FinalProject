{
 "cells": [
  {
   "cell_type": "code",
   "execution_count": null,
   "metadata": {},
   "outputs": [],
   "source": [
    "import pandas as pd\n",
    "# Importing regular expressions for text pattern matching and substitution\n",
    "import re\n",
    "from html import unescape\n",
    "\n",
    "#The Excel file containing YouTube comments\n",
    "file_path = \"C:/Users/Anagha/Desktop/YoutubeComments.xlsx\"\n",
    "data = pd.read_excel(file_path)\n",
    "\n",
    "# Check if the input is null; return an empty string if it is\n",
    "def clean_text(text):\n",
    "    if pd.isnull(text):\n",
    "        return ''\n",
    "    \n",
    "    # Remove HTML tags\n",
    "    text = re.sub(r'<.*?>', '', text)\n",
    "    \n",
    "    # Decode HTML entities\n",
    "    text = unescape(text)\n",
    "    \n",
    "    # Remove URLs\n",
    "    text = re.sub(r'http\\S+|www\\.\\S+', '', text)\n",
    "    \n",
    "    # Remove special characters and normalize whitespace\n",
    "    text = re.sub(r'[^\\w\\s]', '', text)  # Keep only words and spaces\n",
    "    text = re.sub(r'\\s+', ' ', text)     # Normalize whitespace\n",
    "    \n",
    "    # Convert to lowercase\n",
    "    text = text.lower()\n",
    "    \n",
    "    return text.strip()\n",
    "\n",
    "# Check if the DataFrame contains a column named 'comment'\n",
    "if 'comment' in data.columns:\n",
    "    # Apply the cleaning function to each row in the 'comment' column\n",
    "    data['cleaned_comment'] = data['comment'].apply(clean_text)\n",
    "else:\n",
    "    print(\"No column named 'comment' found!\")\n",
    "\n",
    "# Filter out rows where the cleaned_comment column is empty after cleaning\n",
    "data = data[data['cleaned_comment'].str.strip() != '']\n",
    "\n",
    "output_path = \"C:/Users/Anagha/Desktop/Youtube_Comments_Cleaned_Output.xlsx\"\n",
    "data.to_excel(output_path, index=False)\n",
    "\n",
    "print(f\"Data cleaning complete! Cleaned file saved as '{output_path}'\")\n"
   ]
  }
 ],
 "metadata": {
  "language_info": {
   "name": "python"
  }
 },
 "nbformat": 4,
 "nbformat_minor": 2
}
