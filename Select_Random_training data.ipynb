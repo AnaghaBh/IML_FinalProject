{
 "cells": [
  {
   "cell_type": "code",
   "execution_count": null,
   "metadata": {},
   "outputs": [],
   "source": [
    "import pandas as pd\n",
    "\n",
    "# Load your Excel file\n",
    "file_path = \"C:/Users/Anagha/Desktop/Youtube_Comments_Sentiment_Analysis.xlsx\"  # Replace with the path to your file\n",
    "data = pd.read_excel(file_path)\n",
    "\n",
    "# Shuffle the data\n",
    "shuffled_data = data.sample(frac=1, random_state=42).reset_index(drop=True)\n",
    "\n",
    "# Select 20% for manual labeling\n",
    "data_to_label = shuffled_data.iloc[:609] # 5% of 12,300\n",
    "data_to_label.to_excel(\"data_to_label.xlsx\", index=False)  # Save for labeling\n",
    "\n",
    "# Save the remaining 95% for later use\n",
    "remaining_data = shuffled_data.iloc[2460:]\n",
    "remaining_data.to_excel(\"remaining_data.xlsx\", index=False)\n",
    "\n",
    "print(\"Data has been successfully split!\")\n"
   ]
  }
 ],
 "metadata": {
  "language_info": {
   "name": "python"
  }
 },
 "nbformat": 4,
 "nbformat_minor": 2
}
